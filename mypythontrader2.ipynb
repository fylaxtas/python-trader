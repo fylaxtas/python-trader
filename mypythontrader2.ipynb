{
 "cells": [
  {
   "cell_type": "code",
   "execution_count": 42,
   "metadata": {},
   "outputs": [],
   "source": [
    "import pandas as pd\n",
    "import numpy as np\n",
    "import plotly as py\n",
    "from plotly import tools\n",
    "import plotly.graph_objs as go\n",
    "file_directory=\"C:\\\\Users\\\\phylactoum\"\n",
    "data_directory=\"C:\\\\Users\\\\phylactoum\\\\AppData\\\\Roaming\\\\MetaQuotes\\\\Terminal\\\\63A6B241E3C151D1D62F915B872BF91B\\\\MQL4\\\\Files\\\\Data\"\n",
    "symbol=\"EURUSD\"\n",
    "timeframe=\"H1\"\n",
    "prefix=\"\"\n",
    "suffix=\"\"\n",
    "\n",
    "file_name=prefix+symbol+suffix+\"_\"+timeframe\n",
    "file_path=data_directory+\"\\\\\"+file_name+\".csv\""
   ]
  },
  {
   "cell_type": "code",
   "execution_count": 63,
   "metadata": {},
   "outputs": [
    {
     "name": "stdout",
     "output_type": "stream",
     "text": [
      "This is the format of your plot grid:\n",
      "[ (1,1) x1,y1 ]\n",
      "[ (2,1) x1,y2 ]\n",
      "\n",
      "   \n"
     ]
    }
   ],
   "source": []
  },
  {
   "cell_type": "code",
   "execution_count": 66,
   "metadata": {},
   "outputs": [],
   "source": []
  },
  {
   "cell_type": "code",
   "execution_count": 69,
   "metadata": {},
   "outputs": [],
   "source": []
  },
  {
   "cell_type": "code",
   "execution_count": 89,
   "metadata": {},
   "outputs": [],
   "source": [
    "class Asset:\n",
    "\n",
    "    # Initializer / Instance Attributes\n",
    "    def __init__(self, name, tf):\n",
    "        self.name = name\n",
    "        self.tf = tf\n",
    "        self.filename=prefix+name+suffix+\"_\"+tf\n",
    "        self.filepath=data_directory+\"\\\\\"+self.filename+\".csv\"\n",
    "        self.df=pd.read_csv(self.filepath)\n",
    "        self.df.columns=['Date',\"Open\",\"High\",\"Low\",\"Close\",\"Volume\"]\n",
    "        self.df.Date=pd.to_datetime(self.df.Date,format='%Y%m%d %H:%M:%S')\n",
    "        self.df=df.set_index(self.df.Date)\n",
    "        self.df=df[[\"Open\",\"High\",\"Low\",\"Close\",\"Volume\"]]\n",
    "        self.df.drop_duplicates(keep=False)\n",
    "        \n",
    "    def plot(self):\n",
    "        df=self.df\n",
    "        trace0=go.Ohlc(x=df.index,open=df.Open,high=df.High,low=df.Low,close=df.Close,name=self.name)\n",
    "        data=[trace0]    \n",
    "        py.offline.plot(data,filename=self.name+\".html\")    \n",
    "        \n",
    "        "
   ]
  },
  {
   "cell_type": "code",
   "execution_count": 90,
   "metadata": {},
   "outputs": [],
   "source": [
    "EURUSDH1=Asset(\"EURUSD\",\"H1\")\n",
    "EURUSDH1.plot()"
   ]
  },
  {
   "cell_type": "code",
   "execution_count": null,
   "metadata": {},
   "outputs": [],
   "source": []
  }
 ],
 "metadata": {
  "kernelspec": {
   "display_name": "Python 3",
   "language": "python",
   "name": "python3"
  },
  "language_info": {
   "codemirror_mode": {
    "name": "ipython",
    "version": 3
   },
   "file_extension": ".py",
   "mimetype": "text/x-python",
   "name": "python",
   "nbconvert_exporter": "python",
   "pygments_lexer": "ipython3",
   "version": "3.7.3"
  }
 },
 "nbformat": 4,
 "nbformat_minor": 2
}
