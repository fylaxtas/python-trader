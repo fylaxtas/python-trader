{
 "cells": [
  {
   "cell_type": "code",
   "execution_count": 57,
   "metadata": {},
   "outputs": [],
   "source": [
    "import pandas as pd\n",
    "import numpy as np\n",
    "import plotly as py\n",
    "from plotly import tools\n",
    "import plotly.graph_objs as go\n",
    "from tkinter import *\n",
    "\n",
    "file_directory=\"C:\\\\Users\\\\phylactoum\"\n",
    "data_directory=\"C:\\\\Users\\\\phylactoum\\\\AppData\\\\Roaming\\\\MetaQuotes\\\\Terminal\\\\63A6B241E3C151D1D62F915B872BF91B\\\\MQL4\\\\Files\\\\Data\"\n",
    "symbol=\"EURUSD\"\n",
    "timeframe=\"H1\"\n",
    "prefix=\"\"\n",
    "suffix=\"\"\n",
    "\n",
    "file_name=prefix+symbol+suffix+\"_\"+timeframe\n",
    "file_path=data_directory+\"\\\\\"+file_name+\".csv\""
   ]
  },
  {
   "cell_type": "code",
   "execution_count": 58,
   "metadata": {},
   "outputs": [],
   "source": [
    "class Asset:\n",
    "\n",
    "    # Initializer / Instance Attributes\n",
    "    def __init__(self, name, tf):\n",
    "        self.name = name\n",
    "        self.tf = tf\n",
    "        self.filename=prefix+name+suffix+\"_\"+tf\n",
    "        self.filepath=data_directory+\"\\\\\"+self.filename+\".csv\"\n",
    "        self.df=pd.read_csv(self.filepath)\n",
    "        self.df.columns=['Date',\"Open\",\"High\",\"Low\",\"Close\",\"Volume\"]\n",
    "        self.df.Date=pd.to_datetime(self.df.Date,format='%Y%m%d %H:%M:%S')\n",
    "        self.df=self.df.set_index(self.df.Date)\n",
    "        self.df=self.df[[\"Open\",\"High\",\"Low\",\"Close\",\"Volume\"]]\n",
    "        self.df.drop_duplicates(keep=False)\n",
    "        \n",
    "    def plot(self):\n",
    "        df=self.df\n",
    "        trace0=go.Ohlc(x=df.index,open=df.Open,high=df.High,low=df.Low,close=df.Close,name=self.name)\n",
    "        data=[trace0]    \n",
    "        py.offline.plot(data,filename=self.name+\".html\")   \n",
    "        \n",
    " \n",
    "tempasstet=Asset(symbol,timeframe)       "
   ]
  },
  {
   "cell_type": "code",
   "execution_count": 9,
   "metadata": {},
   "outputs": [],
   "source": [
    "EURUSDH1=Asset(\"GBPUSD\",\"H1\")\n",
    "EURUSDH1.plot()"
   ]
  },
  {
   "cell_type": "code",
   "execution_count": 67,
   "metadata": {},
   "outputs": [],
   "source": [
    "root = Tk()\n",
    "root.title(\"Tk dropdown example\") \n",
    "\n",
    "# Add a grid\n",
    "mainframe = Frame(root)\n",
    "mainframe.grid(column=0,row=0, sticky=(N,W,E,S) )\n",
    "mainframe.columnconfigure(0, weight = 1)\n",
    "mainframe.rowconfigure(0, weight = 1)\n",
    "mainframe.pack(pady = 100, padx = 100)\n",
    "\n",
    "# Create a Tkinter variable\n",
    "tksymbols = StringVar(root)\n",
    "tktf=StringVar(root)\n",
    "\n",
    "# Dictionary with options\n",
    "symbols = { 'EURUSD','GBPUSD','USDJPY','EURJPY','USDJPY'}\n",
    "tf = { 'M1','M5','M15','M30','H1','H4','D1','W1'}\n",
    "tksymbols.set('EURUSD') # set the default option\n",
    "tktf.set('H1') # set the default option\n",
    "\n",
    "symbolMenu = OptionMenu(mainframe, tksymbols, *symbols)\n",
    "Label(mainframe, text=\"Symbol\").grid(row = 1, column = 1)\n",
    "symbolMenu.grid(row = 2, column =1)\n",
    "\n",
    "tfMenu = OptionMenu(mainframe, tktf, *tf)\n",
    "Label(mainframe, text=\"Period\").grid(row = 1, column = 2)\n",
    "tfMenu.grid(row = 2, column =2)\n",
    "\n",
    "#Plot button\n",
    "plotButton = Button(mainframe, text =\"Plot\",height = 1, width = 25,)\n",
    "plotButton.grid(row=3,column=1)\n",
    "\n",
    "# on change dropdown value\n",
    "def change_dropdown(*args):\n",
    "    symbol=tksymbols.get()\n",
    "    timeframe=tktf.get()\n",
    "    tempasstet=Asset(symbol,timeframe)\n",
    "    print(symbol+\" \"+timeframe) \n",
    "    tempasstet.plot()\n",
    "    \n",
    "# link function to change dropdown\n",
    "tksymbols.trace('w', change_dropdown)\n",
    "tktf.trace('w', change_dropdown)\n",
    "\n",
    "root.mainloop()"
   ]
  },
  {
   "cell_type": "code",
   "execution_count": 68,
   "metadata": {},
   "outputs": [
    {
     "data": {
      "text/plain": [
       "'C:\\\\Users\\\\phylactoum'"
      ]
     },
     "execution_count": 68,
     "metadata": {},
     "output_type": "execute_result"
    }
   ],
   "source": [
    "pwd\n"
   ]
  },
  {
   "cell_type": "code",
   "execution_count": null,
   "metadata": {},
   "outputs": [],
   "source": []
  }
 ],
 "metadata": {
  "kernelspec": {
   "display_name": "Python 3",
   "language": "python",
   "name": "python3"
  },
  "language_info": {
   "codemirror_mode": {
    "name": "ipython",
    "version": 3
   },
   "file_extension": ".py",
   "mimetype": "text/x-python",
   "name": "python",
   "nbconvert_exporter": "python",
   "pygments_lexer": "ipython3",
   "version": "3.7.3"
  }
 },
 "nbformat": 4,
 "nbformat_minor": 2
}
